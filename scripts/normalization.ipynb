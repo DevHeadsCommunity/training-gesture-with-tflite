{
  "nbformat": 4,
  "nbformat_minor": 0,
  "metadata": {
    "colab": {
      "provenance": []
    },
    "kernelspec": {
      "name": "python3",
      "display_name": "Python 3"
    },
    "language_info": {
      "name": "python"
    }
  },
  "cells": [
    {
      "cell_type": "code",
      "execution_count": null,
      "metadata": {
        "colab": {
          "base_uri": "https://localhost:8080/",
          "height": 263
        },
        "id": "suqWoPDlD8OM",
        "outputId": "d9915af6-5651-43cd-b31a-541742bf634f"
      },
      "outputs": [
        {
          "output_type": "stream",
          "name": "stdout",
          "text": [
            "Requirement already satisfied: pandas in /usr/local/lib/python3.10/dist-packages (2.2.2)\n",
            "Requirement already satisfied: scikit-learn in /usr/local/lib/python3.10/dist-packages (1.5.2)\n",
            "Requirement already satisfied: scipy in /usr/local/lib/python3.10/dist-packages (1.13.1)\n",
            "Requirement already satisfied: numpy>=1.22.4 in /usr/local/lib/python3.10/dist-packages (from pandas) (1.26.4)\n",
            "Requirement already satisfied: python-dateutil>=2.8.2 in /usr/local/lib/python3.10/dist-packages (from pandas) (2.8.2)\n",
            "Requirement already satisfied: pytz>=2020.1 in /usr/local/lib/python3.10/dist-packages (from pandas) (2024.2)\n",
            "Requirement already satisfied: tzdata>=2022.7 in /usr/local/lib/python3.10/dist-packages (from pandas) (2024.2)\n",
            "Requirement already satisfied: joblib>=1.2.0 in /usr/local/lib/python3.10/dist-packages (from scikit-learn) (1.4.2)\n",
            "Requirement already satisfied: threadpoolctl>=3.1.0 in /usr/local/lib/python3.10/dist-packages (from scikit-learn) (3.5.0)\n",
            "Requirement already satisfied: six>=1.5 in /usr/local/lib/python3.10/dist-packages (from python-dateutil>=2.8.2->pandas) (1.16.0)\n",
            "First few rows of the dataset:\n",
            "First few rows of the cleaned dataset:\n"
          ]
        },
        {
          "output_type": "display_data",
          "data": {
            "text/plain": [
              "<IPython.core.display.Javascript object>"
            ],
            "application/javascript": [
              "\n",
              "    async function download(id, filename, size) {\n",
              "      if (!google.colab.kernel.accessAllowed) {\n",
              "        return;\n",
              "      }\n",
              "      const div = document.createElement('div');\n",
              "      const label = document.createElement('label');\n",
              "      label.textContent = `Downloading \"${filename}\": `;\n",
              "      div.appendChild(label);\n",
              "      const progress = document.createElement('progress');\n",
              "      progress.max = size;\n",
              "      div.appendChild(progress);\n",
              "      document.body.appendChild(div);\n",
              "\n",
              "      const buffers = [];\n",
              "      let downloaded = 0;\n",
              "\n",
              "      const channel = await google.colab.kernel.comms.open(id);\n",
              "      // Send a message to notify the kernel that we're ready.\n",
              "      channel.send({})\n",
              "\n",
              "      for await (const message of channel.messages) {\n",
              "        // Send a message to notify the kernel that we're ready.\n",
              "        channel.send({})\n",
              "        if (message.buffers) {\n",
              "          for (const buffer of message.buffers) {\n",
              "            buffers.push(buffer);\n",
              "            downloaded += buffer.byteLength;\n",
              "            progress.value = downloaded;\n",
              "          }\n",
              "        }\n",
              "      }\n",
              "      const blob = new Blob(buffers, {type: 'application/binary'});\n",
              "      const a = document.createElement('a');\n",
              "      a.href = window.URL.createObjectURL(blob);\n",
              "      a.download = filename;\n",
              "      div.appendChild(a);\n",
              "      a.click();\n",
              "      div.remove();\n",
              "    }\n",
              "  "
            ]
          },
          "metadata": {}
        },
        {
          "output_type": "display_data",
          "data": {
            "text/plain": [
              "<IPython.core.display.Javascript object>"
            ],
            "application/javascript": [
              "download(\"download_2092ad56-63fc-4b01-8c39-69a54e472699\", \"cleaned_dataset.csv\", 26300)"
            ]
          },
          "metadata": {}
        },
        {
          "output_type": "stream",
          "name": "stdout",
          "text": [
            "Dataset cleaned and saved as 'cleaned_dataset.csv'\n"
          ]
        }
      ],
      "source": [
        "# Install necessary libraries\n",
        "!pip install pandas scikit-learn scipy\n",
        "\n",
        "# Import required libraries\n",
        "import pandas as pd\n",
        "import numpy as np\n",
        "from scipy import stats\n",
        "from sklearn.preprocessing import MinMaxScaler\n",
        "\n",
        "# URL of the CSV file you want to load\n",
        "csv_url = \"/content/output (1).csv\"  # Replace with your actual file URL\n",
        "\n",
        "# Load the CSV file directly from the URL\n",
        "data = pd.read_csv(csv_url)\n",
        "\n",
        "# Show the first few rows of the dataset to understand its structure\n",
        "print(\"First few rows of the dataset:\")\n",
        "data.head()\n",
        "\n",
        "# Drop rows with missing values or incomplete data\n",
        "data = data.dropna()\n",
        "\n",
        "# Identify outliers using Z-scores (assuming the data is normally distributed)\n",
        "z_scores = np.abs(stats.zscore(data.iloc[:, 1:]))  # Exclude the first column (gesture labels)\n",
        "outliers = (z_scores > 3).all(axis=1)  # Mark rows with Z-scores > 3 in all columns as outliers\n",
        "\n",
        "# Remove outliers\n",
        "clean_data = data[~outliers]\n",
        "\n",
        "# Normalize the accelerometer and gyroscope values (optional but recommended for machine learning)\n",
        "scaler = MinMaxScaler()\n",
        "clean_data.iloc[:, 1:] = scaler.fit_transform(clean_data.iloc[:, 1:])  # Apply normalization to the sensor data\n",
        "\n",
        "# Show the cleaned dataset (first few rows)\n",
        "print(\"First few rows of the cleaned dataset:\")\n",
        "clean_data.head()\n",
        "\n",
        "# Save the cleaned dataset to a new CSV file\n",
        "cleaned_filename = 'cleaned_dataset.csv'\n",
        "clean_data.to_csv(cleaned_filename, index=False)\n",
        "\n",
        "# Provide a download link for the cleaned data\n",
        "from google.colab import files\n",
        "files.download(cleaned_filename)\n",
        "\n",
        "print(f\"Dataset cleaned and saved as '{cleaned_filename}'\")\n"
      ]
    }
  ]
}